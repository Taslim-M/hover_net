{
 "cells": [
  {
   "cell_type": "code",
   "execution_count": 8,
   "id": "372f9205",
   "metadata": {},
   "outputs": [],
   "source": [
    "# check Pillow version number\n",
    "import PIL\n",
    "from PIL import Image\n",
    "from numpy import asarray"
   ]
  },
  {
   "cell_type": "code",
   "execution_count": 2,
   "id": "ab33bfb7",
   "metadata": {},
   "outputs": [
    {
     "name": "stdout",
     "output_type": "stream",
     "text": [
      "Pillow Version: 7.2.0\n"
     ]
    }
   ],
   "source": [
    "print('Pillow Version:', PIL.__version__)"
   ]
  },
  {
   "cell_type": "code",
   "execution_count": 3,
   "id": "d336fbc8",
   "metadata": {},
   "outputs": [],
   "source": [
    "file= r'C:\\Users\\Tasli\\Desktop\\Python_Folder_New\\ECCE635\\hover_net-master\\DATA\\consep\\CoNSeP\\Train\\Images\\train_1.png'"
   ]
  },
  {
   "cell_type": "code",
   "execution_count": 6,
   "id": "3c7a73f7",
   "metadata": {},
   "outputs": [],
   "source": [
    "image = Image.open(file)"
   ]
  },
  {
   "cell_type": "code",
   "execution_count": 7,
   "id": "aa8ded6a",
   "metadata": {},
   "outputs": [
    {
     "name": "stdout",
     "output_type": "stream",
     "text": [
      "(1000, 1000)\n"
     ]
    }
   ],
   "source": [
    "print(image.size)"
   ]
  },
  {
   "cell_type": "code",
   "execution_count": 9,
   "id": "84198f47",
   "metadata": {},
   "outputs": [
    {
     "name": "stdout",
     "output_type": "stream",
     "text": [
      "(1000, 1000, 3)\n"
     ]
    }
   ],
   "source": [
    "# convert image to numpy array\n",
    "data = asarray(image)\n",
    "# summarize shape\n",
    "print(data.shape)"
   ]
  },
  {
   "cell_type": "code",
   "execution_count": null,
   "id": "07539cf7",
   "metadata": {},
   "outputs": [],
   "source": []
  }
 ],
 "metadata": {
  "kernelspec": {
   "display_name": "Python 3",
   "language": "python",
   "name": "python3"
  },
  "language_info": {
   "codemirror_mode": {
    "name": "ipython",
    "version": 3
   },
   "file_extension": ".py",
   "mimetype": "text/x-python",
   "name": "python",
   "nbconvert_exporter": "python",
   "pygments_lexer": "ipython3",
   "version": "3.6.12"
  }
 },
 "nbformat": 4,
 "nbformat_minor": 5
}
