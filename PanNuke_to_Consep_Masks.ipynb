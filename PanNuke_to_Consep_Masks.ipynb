{
 "cells": [
  {
   "cell_type": "code",
   "execution_count": 5,
   "id": "1b0e168c",
   "metadata": {},
   "outputs": [
    {
     "name": "stdout",
     "output_type": "stream",
     "text": [
      "Processing Fold 1\n"
     ]
    }
   ],
   "source": [
    "# Code for Generating GT data to be utilized the compute_stats.py script\n",
    "\n",
    "import numpy as np\n",
    "from scipy.ndimage import measurements\n",
    "import scipy.io as sio\n",
    "import glob\n",
    "import cv2\n",
    "\n",
    "def get_inst_centroid(inst_map):\n",
    "    inst_centroid_list = []\n",
    "    inst_id_list = list(np.unique(inst_map))\n",
    "    for inst_id in inst_id_list[1:]: # avoid 0 i.e background\n",
    "        mask = np.array(inst_map == inst_id, np.uint8)\n",
    "        inst_moment = cv2.moments(mask)\n",
    "        inst_centroid = [(inst_moment[\"m10\"] / inst_moment[\"m00\"]),\n",
    "                         (inst_moment[\"m01\"] / inst_moment[\"m00\"])]\n",
    "        inst_centroid_list.append(inst_centroid)\n",
    "    return np.array(inst_centroid_list)\n",
    "\n",
    "def save_instance_maps(masks, output_dir):\n",
    "    count = 0\n",
    "    for idx, mask in enumerate(masks):\n",
    "        temp = np.roll(mask,1,axis=2)\n",
    "\n",
    "        inst_map = np.sum(temp[:,:,1:],axis=2)  # Instance\n",
    "        type_map = np.argmax(temp,axis=2) # Class\n",
    "        inst_centroid = get_inst_centroid(inst_map)\n",
    "        inst_type = np.zeros((inst_centroid.shape[0],1))\n",
    "\n",
    "        centroids_img = np.zeros((inst_map.shape[0],inst_map.shape[1]))\n",
    "        for idx1 , cent in enumerate(inst_centroid):\n",
    "            inst_type[idx1,0] = type_map[int(cent[1]),int(cent[0])]\n",
    "        # print(inst_centroid.shape)\n",
    "\n",
    "        if inst_centroid.shape[0] == 0:\n",
    "            count += 1\n",
    "\n",
    "        sio.savemat(output_dir + str(idx) + \".mat\", {'inst_map': inst_map, 'type_map': type_map, 'inst_centroid': inst_centroid, 'inst_type': inst_type})\n",
    "    # print(count)  \n",
    "\n",
    "\n",
    "file = r\".\\dataset\\PanNuke\\Fold 1\\masks\\fold1\\masks.npy\"\n",
    "print(\"Processing Fold 1\")\n",
    "output_dir = r\".\\dataset\\PanNuke\\Fold 1\\masks\\fold1\\CoNSeP\"\n",
    "masks = np.load(file)\n",
    "save_instance_maps(masks, output_dir)\n",
    "   \n",
    "    \n",
    "    "
   ]
  },
  {
   "cell_type": "code",
   "execution_count": 6,
   "id": "01979d15",
   "metadata": {},
   "outputs": [],
   "source": [
    "# Removing all non-numeric stuff from the file names"
   ]
  },
  {
   "cell_type": "code",
   "execution_count": 8,
   "id": "d5d14974",
   "metadata": {},
   "outputs": [],
   "source": [
    "import os\n",
    "import re"
   ]
  },
  {
   "cell_type": "code",
   "execution_count": null,
   "id": "bf1a8190",
   "metadata": {},
   "outputs": [],
   "source": [
    "import re\n"
   ]
  },
  {
   "cell_type": "code",
   "execution_count": 17,
   "id": "4efef7f9",
   "metadata": {},
   "outputs": [],
   "source": [
    "file_dir = r\"dataset\\PanNuke\\Fold 1\\masks\\fold1\\CoNSeP\"\n",
    "list1 = os.listdir(file_dir)\n"
   ]
  },
  {
   "cell_type": "code",
   "execution_count": 18,
   "id": "d2fb72ea",
   "metadata": {},
   "outputs": [],
   "source": [
    "for file_name in list1:\n",
    "    new_name = re.sub(\"[^0-9]\", \"\", file_name)\n",
    "    new_name = new_name +\".mat\"\n",
    "    os.rename(os.path.join(file_dir,file_name),os.path.join(file_dir,new_name)) "
   ]
  },
  {
   "cell_type": "code",
   "execution_count": 19,
   "id": "e23eac6a",
   "metadata": {},
   "outputs": [],
   "source": [
    "# Fixing index starting from 1 isntead of 0"
   ]
  },
  {
   "cell_type": "code",
   "execution_count": 30,
   "id": "7609454e",
   "metadata": {},
   "outputs": [],
   "source": [
    "file_dir = r\"dataset\\PanNuke\\Fold 1\\masks\\fold1\\CoNSeP\"\n",
    "list1 = os.listdir(file_dir)\n",
    "\n",
    "out_dir = r\"dataset\\PanNuke\\Fold 1\\masks\\fold1\\consep_format\""
   ]
  },
  {
   "cell_type": "code",
   "execution_count": 31,
   "id": "7fab79b2",
   "metadata": {},
   "outputs": [],
   "source": [
    "for file_name in list1:\n",
    "    new_name = int(file_name[:-4]) + 1\n",
    "    new_name = str(new_name) +\".mat\"\n",
    "    os.rename(os.path.join(file_dir,file_name),os.path.join(out_dir,new_name)) "
   ]
  },
  {
   "cell_type": "code",
   "execution_count": null,
   "id": "8bd8fac8",
   "metadata": {},
   "outputs": [],
   "source": []
  }
 ],
 "metadata": {
  "kernelspec": {
   "display_name": "Python 3",
   "language": "python",
   "name": "python3"
  },
  "language_info": {
   "codemirror_mode": {
    "name": "ipython",
    "version": 3
   },
   "file_extension": ".py",
   "mimetype": "text/x-python",
   "name": "python",
   "nbconvert_exporter": "python",
   "pygments_lexer": "ipython3",
   "version": "3.6.12"
  }
 },
 "nbformat": 4,
 "nbformat_minor": 5
}
